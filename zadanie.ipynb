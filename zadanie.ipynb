{
 "cells": [
  {
   "cell_type": "code",
   "execution_count": 4,
   "metadata": {},
   "outputs": [],
   "source": [
    "import pandas as pd\n",
    "import numpy as np\n",
    "import sqlite3\n",
    "import matplotlib.pyplot as plt"
   ]
  },
  {
   "cell_type": "code",
   "execution_count": 5,
   "metadata": {},
   "outputs": [],
   "source": [
    "query = \"\"\"\n",
    "SELECT data.x, data.y, data.z, additional_data.color_name, additional_data.color_id \n",
    "FROM data \n",
    "INNER JOIN connection \n",
    "ON data.connection_id=connection.id\n",
    "INNER JOIN additional_data \n",
    "ON connection.name=additional_data.color_name;\"\"\"\n",
    "\n",
    "connection = sqlite3.connect(\"database.db\")\n",
    "\n",
    "data = pd.read_sql(query, connection)\n",
    "\n",
    "connection.close()"
   ]
  },
  {
   "cell_type": "code",
   "execution_count": 6,
   "metadata": {},
   "outputs": [],
   "source": [
    "data = data.astype({'y': 'float64'})\n",
    "data = data.dropna()"
   ]
  },
  {
   "cell_type": "code",
   "execution_count": 7,
   "metadata": {},
   "outputs": [],
   "source": [
    "data = data.rename(columns={'color_name': 'color'})"
   ]
  },
  {
   "cell_type": "code",
   "execution_count": 8,
   "metadata": {},
   "outputs": [
    {
     "name": "stdout",
     "output_type": "stream",
     "text": [
      "Unique colors: ['green', 'orange', 'yellow', 'red', 'black', 'blue']\n"
     ]
    }
   ],
   "source": [
    "unique_color_list = data['color'].unique().tolist()\n",
    "print('Unique colors: {}'.format(unique_color_list))"
   ]
  },
  {
   "cell_type": "code",
   "execution_count": 9,
   "metadata": {},
   "outputs": [],
   "source": [
    "data = data[data['z'] == 100]"
   ]
  },
  {
   "cell_type": "code",
   "execution_count": 10,
   "metadata": {},
   "outputs": [
    {
     "name": "stderr",
     "output_type": "stream",
     "text": [
      "C:\\Users\\polakiew\\AppData\\Local\\Continuum\\anaconda3\\lib\\site-packages\\ipykernel_launcher.py:13: SettingWithCopyWarning: \n",
      "A value is trying to be set on a copy of a slice from a DataFrame.\n",
      "Try using .loc[row_indexer,col_indexer] = value instead\n",
      "\n",
      "See the caveats in the documentation: http://pandas.pydata.org/pandas-docs/stable/indexing.html#indexing-view-versus-copy\n",
      "  del sys.path[0]\n"
     ]
    }
   ],
   "source": [
    "red_points = data.loc[data['color'] == 'red']\n",
    "\n",
    "red_x = red_points['x']\n",
    "red_y = red_points['y']\n",
    "avg_red_x = np.mean(red_x)\n",
    "avg_red_y = np.mean(red_y)\n",
    "\n",
    "\n",
    "def distance(x, y, x_mean, y_mean):\n",
    "    return np.sqrt(np.square(x - x_mean) + np.square(y - y_mean))\n",
    "\n",
    "\n",
    "red_points[\"Distance\"] = distance(red_x, red_y, avg_red_x, avg_red_y)\n",
    "\n",
    "red_points_distance_mean = np.mean(red_points[\"Distance\"])\n",
    "red_points_distance_sigma = np.std(red_points[\"Distance\"])\n",
    "max_dist = red_points_distance_mean + red_points_distance_sigma\n",
    "min_dist = red_points_distance_mean - red_points_distance_sigma\n",
    "points_to_delete = red_points.loc[(red_points[\"Distance\"] > max_dist) | (red_points[\"Distance\"] < min_dist)]\n",
    "\n",
    "data = data.drop(points_to_delete.index)"
   ]
  },
  {
   "cell_type": "code",
   "execution_count": 11,
   "metadata": {},
   "outputs": [],
   "source": [
    "data = data.reset_index()"
   ]
  },
  {
   "cell_type": "code",
   "execution_count": 12,
   "metadata": {},
   "outputs": [],
   "source": [
    "data_to_hdf5 = data[['x', 'y', 'color']]\n",
    "data_to_hdf5.to_hdf('data.h5', key='ns1', mode='w')"
   ]
  },
  {
   "cell_type": "code",
   "execution_count": 13,
   "metadata": {},
   "outputs": [
    {
     "data": {
      "text/plain": [
       "<matplotlib.axes._subplots.AxesSubplot at 0x28814499a20>"
      ]
     },
     "execution_count": 13,
     "metadata": {},
     "output_type": "execute_result"
    },
    {
     "data": {
      "image/png": "[encoded data removed]",
      "text/plain": [
       "<matplotlib.figure.Figure at 0x2881441f4a8>"
      ]
     },
     "metadata": {},
     "output_type": "display_data"
    }
   ],
   "source": [
    "hdf_data = pd.read_hdf('data.h5', key='ns1', mode='r')\n",
    "hdf_data.plot(kind='scatter', x='x', y='y', color=data_to_hdf5['color'])"
   ]
  },
  {
   "cell_type": "code",
   "execution_count": null,
   "metadata": {},
   "outputs": [],
   "source": []
  }
 ],
 "metadata": {
  "kernelspec": {
   "display_name": "Python 3",
   "language": "python",
   "name": "python3"
  },
  "language_info": {
   "codemirror_mode": {
    "name": "ipython",
    "version": 3
   },
   "file_extension": ".py",
   "mimetype": "text/x-python",
   "name": "python",
   "nbconvert_exporter": "python",
   "pygments_lexer": "ipython3",
   "version": "3.6.4"
  }
 },
 "nbformat": 4,
 "nbformat_minor": 2
}
